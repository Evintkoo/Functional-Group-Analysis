{
 "cells": [
  {
   "cell_type": "code",
   "execution_count": 32,
   "metadata": {},
   "outputs": [],
   "source": [
    "import pandas as pd\n",
    "import pickle\n",
    "import numpy as np\n",
    "from SOM_plus_clustering.utils import euc_distance\n",
    "import seaborn as sns"
   ]
  },
  {
   "cell_type": "code",
   "execution_count": 38,
   "metadata": {},
   "outputs": [],
   "source": [
    "som_model = pickle.load(open('models/som_model.models', 'rb'))\n",
    "som_model\n",
    "pca = pickle.load(open('models/pca.models', 'rb'))"
   ]
  },
  {
   "cell_type": "code",
   "execution_count": 18,
   "metadata": {},
   "outputs": [],
   "source": [
    "cluster_center = som_model.cluster_center_"
   ]
  },
  {
   "cell_type": "code",
   "execution_count": 24,
   "metadata": {},
   "outputs": [],
   "source": [
    "dist_matrix = list()\n",
    "for i in cluster_center:\n",
    "    rows = list()\n",
    "    for j in cluster_center:\n",
    "        rows.append(euc_distance(i,j))\n",
    "    dist_matrix.append(rows)\n",
    "dist_matrix = np.array(dist_matrix)"
   ]
  },
  {
   "cell_type": "code",
   "execution_count": 29,
   "metadata": {},
   "outputs": [],
   "source": [
    "class minmaxscaler:\n",
    "    def __init__(self, multiplier_value) -> None:\n",
    "        self.multiplier = multiplier_value\n",
    "        pass\n",
    "    def fit(self, X):\n",
    "        self.min_value = np.min(X)\n",
    "        self.max_value = np.max(X)\n",
    "        self.scale = 1/(self.max_value - self.min_value)\n",
    "    def fit_transform(self, X):\n",
    "        self.min_value = np.min(X)\n",
    "        self.max_value = np.max(X)\n",
    "        self.scale = 1/(self.max_value - self.min_value)\n",
    "        return [(i - self.min_value)*self.scale*self.multiplier for i in X]\n",
    "    def inverse_transform(self, X):\n",
    "        return [i/self.scale/self.multiplier+self.min_value for i in X]"
   ]
  },
  {
   "cell_type": "code",
   "execution_count": 31,
   "metadata": {},
   "outputs": [],
   "source": [
    "scaler = minmaxscaler(1)\n",
    "scaled_dist = scaler.fit_transform(X=dist_matrix)"
   ]
  },
  {
   "cell_type": "code",
   "execution_count": 36,
   "metadata": {},
   "outputs": [],
   "source": [
    "pd.DataFrame(dist_matrix).to_csv(\"Stats/som_distance_matrix.csv\")\n",
    "pd.DataFrame(dist_matrix).to_excel(\"Stats/som_distance_matrix.xlsx\")"
   ]
  },
  {
   "cell_type": "code",
   "execution_count": 60,
   "metadata": {},
   "outputs": [],
   "source": [
    "data = pd.read_csv(\"labeled_data.csv\")\n",
    "columns = data.columns[:-1]"
   ]
  },
  {
   "cell_type": "code",
   "execution_count": 58,
   "metadata": {},
   "outputs": [
    {
     "data": {
      "text/html": [
       "<div>\n",
       "<style scoped>\n",
       "    .dataframe tbody tr th:only-of-type {\n",
       "        vertical-align: middle;\n",
       "    }\n",
       "\n",
       "    .dataframe tbody tr th {\n",
       "        vertical-align: top;\n",
       "    }\n",
       "\n",
       "    .dataframe thead th {\n",
       "        text-align: right;\n",
       "    }\n",
       "</style>\n",
       "<table border=\"1\" class=\"dataframe\">\n",
       "  <thead>\n",
       "    <tr style=\"text-align: right;\">\n",
       "      <th></th>\n",
       "      <th>('N', 'C', 1)</th>\n",
       "      <th>('S', 'H', 1)</th>\n",
       "      <th>('C', 'S', 1.5)</th>\n",
       "      <th>('O', 'C', 1.5)</th>\n",
       "      <th>('C', 'O', 2)</th>\n",
       "      <th>('C', 'O', 1)</th>\n",
       "      <th>('C', 'C', 1)</th>\n",
       "      <th>('C', 'C', 1.5)</th>\n",
       "      <th>('C', 'H', 1)</th>\n",
       "      <th>C</th>\n",
       "      <th>...</th>\n",
       "      <th>O</th>\n",
       "      <th>amines</th>\n",
       "      <th>ether</th>\n",
       "      <th>aldehyde</th>\n",
       "      <th>sulfide</th>\n",
       "      <th>aromatic</th>\n",
       "      <th>cycle</th>\n",
       "      <th>weight</th>\n",
       "      <th>logP</th>\n",
       "      <th>SAS</th>\n",
       "    </tr>\n",
       "  </thead>\n",
       "  <tbody>\n",
       "    <tr>\n",
       "      <th>0</th>\n",
       "      <td>3.506771</td>\n",
       "      <td>0.189581</td>\n",
       "      <td>0.368430</td>\n",
       "      <td>0.156544</td>\n",
       "      <td>0.874080</td>\n",
       "      <td>2.315926</td>\n",
       "      <td>0.677827</td>\n",
       "      <td>9.575355</td>\n",
       "      <td>12.021189</td>\n",
       "      <td>13.436372</td>\n",
       "      <td>...</td>\n",
       "      <td>2.776937</td>\n",
       "      <td>1.407153</td>\n",
       "      <td>1.066805</td>\n",
       "      <td>0.874080</td>\n",
       "      <td>0.082816</td>\n",
       "      <td>1.932883</td>\n",
       "      <td>0.013026</td>\n",
       "      <td>187.430863</td>\n",
       "      <td>2.122674</td>\n",
       "      <td>2.318506</td>\n",
       "    </tr>\n",
       "    <tr>\n",
       "      <th>1</th>\n",
       "      <td>7.642421</td>\n",
       "      <td>0.049507</td>\n",
       "      <td>0.094971</td>\n",
       "      <td>0.148457</td>\n",
       "      <td>1.317401</td>\n",
       "      <td>0.455673</td>\n",
       "      <td>18.147597</td>\n",
       "      <td>1.215907</td>\n",
       "      <td>34.955176</td>\n",
       "      <td>21.979642</td>\n",
       "      <td>...</td>\n",
       "      <td>1.470982</td>\n",
       "      <td>2.509580</td>\n",
       "      <td>0.186793</td>\n",
       "      <td>1.317401</td>\n",
       "      <td>0.029236</td>\n",
       "      <td>0.366993</td>\n",
       "      <td>3.418159</td>\n",
       "      <td>280.898474</td>\n",
       "      <td>2.338108</td>\n",
       "      <td>4.401543</td>\n",
       "    </tr>\n",
       "    <tr>\n",
       "      <th>2</th>\n",
       "      <td>0.644403</td>\n",
       "      <td>0.036420</td>\n",
       "      <td>0.073611</td>\n",
       "      <td>0.189771</td>\n",
       "      <td>0.599767</td>\n",
       "      <td>7.832370</td>\n",
       "      <td>7.492921</td>\n",
       "      <td>6.119832</td>\n",
       "      <td>26.169210</td>\n",
       "      <td>16.944302</td>\n",
       "      <td>...</td>\n",
       "      <td>5.717052</td>\n",
       "      <td>0.337634</td>\n",
       "      <td>3.646422</td>\n",
       "      <td>0.599767</td>\n",
       "      <td>0.034070</td>\n",
       "      <td>1.020416</td>\n",
       "      <td>1.017700</td>\n",
       "      <td>225.663360</td>\n",
       "      <td>1.889261</td>\n",
       "      <td>3.242395</td>\n",
       "    </tr>\n",
       "    <tr>\n",
       "      <th>3</th>\n",
       "      <td>13.453086</td>\n",
       "      <td>0.021078</td>\n",
       "      <td>0.018463</td>\n",
       "      <td>0.028444</td>\n",
       "      <td>2.194707</td>\n",
       "      <td>0.635177</td>\n",
       "      <td>8.119276</td>\n",
       "      <td>1.112993</td>\n",
       "      <td>22.877841</td>\n",
       "      <td>15.945253</td>\n",
       "      <td>...</td>\n",
       "      <td>2.347164</td>\n",
       "      <td>4.334019</td>\n",
       "      <td>0.373834</td>\n",
       "      <td>2.194707</td>\n",
       "      <td>0.023709</td>\n",
       "      <td>0.088109</td>\n",
       "      <td>2.724793</td>\n",
       "      <td>266.444221</td>\n",
       "      <td>0.471847</td>\n",
       "      <td>3.101234</td>\n",
       "    </tr>\n",
       "  </tbody>\n",
       "</table>\n",
       "<p>4 rows × 21 columns</p>\n",
       "</div>"
      ],
      "text/plain": [
       "   ('N', 'C', 1)  ('S', 'H', 1)  ('C', 'S', 1.5)  ('O', 'C', 1.5)  \\\n",
       "0       3.506771       0.189581         0.368430         0.156544   \n",
       "1       7.642421       0.049507         0.094971         0.148457   \n",
       "2       0.644403       0.036420         0.073611         0.189771   \n",
       "3      13.453086       0.021078         0.018463         0.028444   \n",
       "\n",
       "   ('C', 'O', 2)  ('C', 'O', 1)  ('C', 'C', 1)  ('C', 'C', 1.5)  \\\n",
       "0       0.874080       2.315926       0.677827         9.575355   \n",
       "1       1.317401       0.455673      18.147597         1.215907   \n",
       "2       0.599767       7.832370       7.492921         6.119832   \n",
       "3       2.194707       0.635177       8.119276         1.112993   \n",
       "\n",
       "   ('C', 'H', 1)          C  ...         O    amines     ether  aldehyde  \\\n",
       "0      12.021189  13.436372  ...  2.776937  1.407153  1.066805  0.874080   \n",
       "1      34.955176  21.979642  ...  1.470982  2.509580  0.186793  1.317401   \n",
       "2      26.169210  16.944302  ...  5.717052  0.337634  3.646422  0.599767   \n",
       "3      22.877841  15.945253  ...  2.347164  4.334019  0.373834  2.194707   \n",
       "\n",
       "    sulfide  aromatic     cycle      weight      logP       SAS  \n",
       "0  0.082816  1.932883  0.013026  187.430863  2.122674  2.318506  \n",
       "1  0.029236  0.366993  3.418159  280.898474  2.338108  4.401543  \n",
       "2  0.034070  1.020416  1.017700  225.663360  1.889261  3.242395  \n",
       "3  0.023709  0.088109  2.724793  266.444221  0.471847  3.101234  \n",
       "\n",
       "[4 rows x 21 columns]"
      ]
     },
     "execution_count": 58,
     "metadata": {},
     "output_type": "execute_result"
    }
   ],
   "source": [
    "cluster_data = pd.DataFrame(pca.inverse_transform( som_model.cluster_center_), columns=columns)\n",
    "cluster_data[\"weight\"] = scaler.inverse_transform(list(cluster_data[\"weight\"]))\n",
    "converted_cluster = cluster_data[cluster_data > 0.01].dropna(axis=1)\n",
    "converted_cluster"
   ]
  },
  {
   "cell_type": "code",
   "execution_count": 59,
   "metadata": {},
   "outputs": [],
   "source": [
    "converted_cluster.to_csv(\"reduced_cluster_center_data.csv\")\n",
    "converted_cluster.round(3).to_excel(\"reduced_cluster_center_data.xlsx\")"
   ]
  },
  {
   "cell_type": "code",
   "execution_count": 75,
   "metadata": {},
   "outputs": [],
   "source": [
    "data[converted_cluster.columns].corr().round(3).to_csv(\"Stats/correlation.csv\")\n",
    "data[converted_cluster.columns].corr().round(3).to_excel(\"Stats/correlation.xlsx\")\n",
    "data[converted_cluster.columns].corr().abs().mean().to_csv(\"Stats/average_absolute_correlation.csv\")\n",
    "data[converted_cluster.columns].corr().abs().mean().to_excel(\"Stats/average_absolute_correlation.xlsx\")"
   ]
  },
  {
   "cell_type": "code",
   "execution_count": 81,
   "metadata": {},
   "outputs": [],
   "source": [
    "pd.DataFrame(pca.explained_variance_ratio_, columns=[\"Variance Ratio\"]).round(3).to_csv(\"Stats/variance_ratio.csv\")\n",
    "pd.DataFrame(pca.explained_variance_ratio_, columns=[\"Variance Ratio\"]).round(3).to_excel(\"Stats/variance_ratio.xlsx\")"
   ]
  }
 ],
 "metadata": {
  "kernelspec": {
   "display_name": "Python 3",
   "language": "python",
   "name": "python3"
  },
  "language_info": {
   "codemirror_mode": {
    "name": "ipython",
    "version": 3
   },
   "file_extension": ".py",
   "mimetype": "text/x-python",
   "name": "python",
   "nbconvert_exporter": "python",
   "pygments_lexer": "ipython3",
   "version": "3.10.11"
  },
  "orig_nbformat": 4
 },
 "nbformat": 4,
 "nbformat_minor": 2
}
