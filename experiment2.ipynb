{
 "cells": [
  {
   "cell_type": "code",
   "execution_count": 1,
   "metadata": {},
   "outputs": [],
   "source": [
    "# import packages\n",
    "\n",
    "# general tools\n",
    "import numpy as np\n",
    "\n",
    "# RDkit\n",
    "from rdkit import Chem\n",
    "from rdkit.Chem.rdmolops import GetAdjacencyMatrix\n",
    "\n",
    "# Pytorch and Pytorch Geometric\n",
    "import torch\n",
    "from torch_geometric.data import Data\n",
    "from torch.utils.data import DataLoader\n",
    "import pandas as pd\n",
    "import numpy as np\n",
    "from tqdm import tqdm\n",
    "import pandas as pd\n",
    "import numpy as np\n",
    "from tqdm import tqdm\n",
    "import networkx as nx\n",
    "import torch\n",
    "import torch.nn as nn\n",
    "import torch.optim as optim\n",
    "from torch.utils.data import DataLoader, TensorDataset\n",
    "from sklearn.model_selection import train_test_split \n",
    "import math\n",
    "import matplotlib.pyplot as plt"
   ]
  },
  {
   "cell_type": "code",
   "execution_count": 2,
   "metadata": {},
   "outputs": [],
   "source": [
    "def one_hot_encoding(x, permitted_list):\n",
    "    \"\"\"\n",
    "    Maps input elements x which are not in the permitted list to the last element\n",
    "    of the permitted list.\n",
    "    \"\"\"\n",
    "\n",
    "    if x not in permitted_list:\n",
    "        x = permitted_list[-1]\n",
    "\n",
    "    binary_encoding = [int(boolean_value) for boolean_value in list(map(lambda s: x == s, permitted_list))]\n",
    "\n",
    "    return binary_encoding"
   ]
  },
  {
   "cell_type": "code",
   "execution_count": 9,
   "metadata": {},
   "outputs": [],
   "source": [
    "def get_atom_features(atom, \n",
    "                      use_chirality = True, \n",
    "                      hydrogens_implicit = False):\n",
    "    \"\"\"\n",
    "    Takes an RDKit atom object as input and gives a 1d-numpy array of atom features as output.\n",
    "    \"\"\"\n",
    "\n",
    "    # define list of permitted atoms\n",
    "    \n",
    "    permitted_list_of_atoms =  ['C','N','O','S','F','Si','P','Cl','Br','Mg','Na','Ca','Fe','As','Al','I', 'B','V','K','Tl','Yb','Sb','Sn','Ag','Pd','Co','Se','Ti','Zn', 'Li','Ge','Cu','Au','Ni','Cd','In','Mn','Zr','Cr','Pt','Hg','Pb','Unknown']\n",
    "    \n",
    "    if hydrogens_implicit == False:\n",
    "        permitted_list_of_atoms = ['H'] + permitted_list_of_atoms\n",
    "    \n",
    "    # compute atom features\n",
    "    \n",
    "    atom_type_enc = one_hot_encoding(str(atom.GetSymbol()), permitted_list_of_atoms)\n",
    "    \n",
    "    n_heavy_neighbors_enc = one_hot_encoding(int(atom.GetDegree()), [0, 1, 2, 3, 4, \"MoreThanFour\"])\n",
    "    \n",
    "    formal_charge_enc = one_hot_encoding(int(atom.GetFormalCharge()), [-3, -2, -1, 0, 1, 2, 3, \"Extreme\"])\n",
    "    \n",
    "    hybridisation_type_enc = one_hot_encoding(str(atom.GetHybridization()), [\"S\", \"SP\", \"SP2\", \"SP3\", \"SP3D\", \"SP3D2\", \"OTHER\"])\n",
    "    \n",
    "    is_in_a_ring_enc = [int(atom.IsInRing())]\n",
    "    \n",
    "    is_aromatic_enc = [int(atom.GetIsAromatic())]\n",
    "    \n",
    "    atomic_mass_scaled = [float((atom.GetMass() - 10.812)/116.092)]\n",
    "    \n",
    "    vdw_radius_scaled = [float((Chem.GetPeriodicTable().GetRvdw(atom.GetAtomicNum()) - 1.5)/0.6)]\n",
    "    \n",
    "    covalent_radius_scaled = [float((Chem.GetPeriodicTable().GetRcovalent(atom.GetAtomicNum()) - 0.64)/0.76)]\n",
    "    \n",
    "    #atom_feature_vector = atom_type_enc + n_heavy_neighbors_enc + formal_charge_enc + hybridisation_type_enc + is_in_a_ring_enc + is_aromatic_enc + atomic_mass_scaled + vdw_radius_scaled + covalent_radius_scaled\n",
    "    atom_feature_vector = atom_type_enc + hybridisation_type_enc + is_in_a_ring_enc + is_aromatic_enc + atomic_mass_scaled \n",
    "    print(permitted_list_of_atoms)\n",
    "    if use_chirality == True:\n",
    "        chirality_type_enc = one_hot_encoding(str(atom.GetChiralTag()), [\"CHI_UNSPECIFIED\", \"CHI_TETRAHEDRAL_CW\", \"CHI_TETRAHEDRAL_CCW\", \"CHI_OTHER\"])\n",
    "        atom_feature_vector += chirality_type_enc\n",
    "    \n",
    "    if hydrogens_implicit == True:\n",
    "        n_hydrogens_enc = one_hot_encoding(int(atom.GetTotalNumHs()), [0, 1, 2, 3, 4, \"MoreThanFour\"])\n",
    "        atom_feature_vector += n_hydrogens_enc\n",
    "\n",
    "    return np.array(atom_feature_vector)"
   ]
  },
  {
   "cell_type": "code",
   "execution_count": 4,
   "metadata": {},
   "outputs": [],
   "source": [
    "def get_bond_features(bond, \n",
    "                      use_stereochemistry = True):\n",
    "    \"\"\"\n",
    "    Takes an RDKit bond object as input and gives a 1d-numpy array of bond features as output.\n",
    "    \"\"\"\n",
    "\n",
    "    permitted_list_of_bond_types = [Chem.rdchem.BondType.SINGLE, Chem.rdchem.BondType.DOUBLE, Chem.rdchem.BondType.TRIPLE, Chem.rdchem.BondType.AROMATIC]\n",
    "\n",
    "    bond_type_enc = one_hot_encoding(bond.GetBondType(), permitted_list_of_bond_types)\n",
    "    \n",
    "    bond_is_conj_enc = [int(bond.GetIsConjugated())]\n",
    "    \n",
    "    bond_is_in_ring_enc = [int(bond.IsInRing())]\n",
    "    \n",
    "    bond_feature_vector = bond_type_enc + bond_is_conj_enc + bond_is_in_ring_enc\n",
    "    \n",
    "    if use_stereochemistry == True:\n",
    "        stereo_type_enc = one_hot_encoding(str(bond.GetStereo()), [\"STEREOZ\", \"STEREOE\", \"STEREOANY\", \"STEREONONE\"])\n",
    "        bond_feature_vector += stereo_type_enc\n",
    "\n",
    "    return np.array(bond_feature_vector)"
   ]
  },
  {
   "cell_type": "code",
   "execution_count": 5,
   "metadata": {},
   "outputs": [],
   "source": [
    "df = pd.read_csv(\"250k_rndm_zinc_drugs_clean_3.csv\")\n",
    "smiles = df[\"smiles\"]\n",
    "y = df[\"qed\"]"
   ]
  },
  {
   "cell_type": "code",
   "execution_count": 10,
   "metadata": {},
   "outputs": [
    {
     "name": "stdout",
     "output_type": "stream",
     "text": [
      "['H', 'C', 'N', 'O', 'S', 'F', 'Si', 'P', 'Cl', 'Br', 'Mg', 'Na', 'Ca', 'Fe', 'As', 'Al', 'I', 'B', 'V', 'K', 'Tl', 'Yb', 'Sb', 'Sn', 'Ag', 'Pd', 'Co', 'Se', 'Ti', 'Zn', 'Li', 'Ge', 'Cu', 'Au', 'Ni', 'Cd', 'In', 'Mn', 'Zr', 'Cr', 'Pt', 'Hg', 'Pb', 'Unknown']\n"
     ]
    },
    {
     "data": {
      "text/plain": [
       "array([0.        , 1.        , 0.        , 0.        , 0.        ,\n",
       "       0.        , 0.        , 0.        , 0.        , 0.        ,\n",
       "       0.        , 0.        , 0.        , 0.        , 0.        ,\n",
       "       0.        , 0.        , 0.        , 0.        , 0.        ,\n",
       "       0.        , 0.        , 0.        , 0.        , 0.        ,\n",
       "       0.        , 0.        , 0.        , 0.        , 0.        ,\n",
       "       0.        , 0.        , 0.        , 0.        , 0.        ,\n",
       "       0.        , 0.        , 0.        , 0.        , 0.        ,\n",
       "       0.        , 0.        , 0.        , 0.        , 0.        ,\n",
       "       0.        , 0.        , 1.        , 0.        , 0.        ,\n",
       "       0.        , 0.        , 0.        , 0.01032802, 1.        ,\n",
       "       0.        , 0.        , 0.        ])"
      ]
     },
     "execution_count": 10,
     "metadata": {},
     "output_type": "execute_result"
    }
   ],
   "source": [
    "mol = Chem.MolFromSmiles(smiles[0])\n",
    "get_atom_features(mol.GetAtomWithIdx(0))"
   ]
  },
  {
   "cell_type": "code",
   "execution_count": 106,
   "metadata": {},
   "outputs": [],
   "source": [
    "def convert_smiles_to_matrix(smiles):\n",
    "    matrix = []\n",
    "    for smile in tqdm(smiles):\n",
    "        #Chem.MolFromSmiles(smiles[0]).GetBondBetweenAtoms(0, len()).GetSymbol()\n",
    "        mol = Chem.MolFromSmiles(smile)\n",
    "        total_atoms = len(mol.GetAtoms())-1\n",
    "        # atom hotencoding\n",
    "        atom_encoding = []\n",
    "        for i in range(total_atoms):\n",
    "            if len(atom_encoding) > 0:\n",
    "                atom_encoding += get_atom_features(mol.GetAtomWithIdx(i))\n",
    "            else:\n",
    "                atom_encoding = get_atom_features(mol.GetAtomWithIdx(i))\n",
    "        bond_encoding = []\n",
    "        for bonds in mol.GetBonds():\n",
    "            if len(bond_encoding) > 0:\n",
    "                bond_encoding += get_bond_features(bonds)\n",
    "            else :\n",
    "                bond_encoding = get_bond_features(bonds)\n",
    "        data = list(atom_encoding) + list(bond_encoding)\n",
    "        matrix.append(data)\n",
    "    matrix = np.array(matrix)\n",
    "    return matrix"
   ]
  },
  {
   "cell_type": "code",
   "execution_count": 107,
   "metadata": {},
   "outputs": [
    {
     "name": "stderr",
     "output_type": "stream",
     "text": [
      "  0%|          | 0/249455 [00:00<?, ?it/s]"
     ]
    },
    {
     "name": "stderr",
     "output_type": "stream",
     "text": [
      "100%|██████████| 249455/249455 [03:08<00:00, 1321.85it/s]\n"
     ]
    },
    {
     "data": {
      "text/plain": [
       "(249455, 68)"
      ]
     },
     "execution_count": 107,
     "metadata": {},
     "output_type": "execute_result"
    }
   ],
   "source": [
    "X = convert_smiles_to_matrix(smiles)\n",
    "X.shape"
   ]
  },
  {
   "cell_type": "code",
   "execution_count": 108,
   "metadata": {},
   "outputs": [],
   "source": [
    "# Define the ANN model for tokenizing with specific input and output sizes using Sequential\n",
    "class TokenizerANN(nn.Module):\n",
    "    def __init__(self, input_size, output_size):\n",
    "        \n",
    "        super(TokenizerANN, self).__init__()\n",
    "        \n",
    "        self.encoder = nn.Sequential(\n",
    "            nn.Linear(input_size, 256),  # First hidden layer\n",
    "            nn.ReLU(),\n",
    "            nn.Linear(256, 256),       # Third hidden layer\n",
    "            nn.ReLU(),\n",
    "            nn.Linear(256, 128),       # Fourth hidden layer\n",
    "            nn.ReLU(),\n",
    "            nn.Linear(128, 128),        # Fifth hidden layer\n",
    "            nn.ReLU(),\n",
    "            nn.Linear(128, output_size) ,\n",
    "            nn.Softmax()# Encoder output layer\n",
    "        )\n",
    "       \n",
    "        self.decoder = nn.Sequential(\n",
    "            nn.Linear(output_size, 128),          # Decoder input layer\n",
    "            nn.ReLU(),\n",
    "            nn.Linear(128, 128),        # First hidden layer\n",
    "            nn.ReLU(),\n",
    "            nn.Linear(128, 256),       # Second hidden layer\n",
    "            nn.ReLU(),\n",
    "            nn.Linear(256, 256),       # Third hidden layer\n",
    "            nn.ReLU(),\n",
    "            nn.Linear(256, input_size)   # Decoder output layer\n",
    "        )\n",
    "        \n",
    "    def forward(self, x):\n",
    "        encoded = self.encoder(x)\n",
    "        decoded = self.decoder(encoded)\n",
    "        return decoded"
   ]
  },
  {
   "cell_type": "code",
   "execution_count": 109,
   "metadata": {},
   "outputs": [
    {
     "name": "stdout",
     "output_type": "stream",
     "text": [
      "Using device: cuda\n"
     ]
    }
   ],
   "source": [
    "# Check if GPU is available\n",
    "device = torch.device('cuda' if torch.cuda.is_available() else 'cpu')\n",
    "print('Using device:', device)"
   ]
  },
  {
   "cell_type": "code",
   "execution_count": 110,
   "metadata": {},
   "outputs": [],
   "source": [
    "from torchsummary import summary"
   ]
  },
  {
   "cell_type": "code",
   "execution_count": 111,
   "metadata": {},
   "outputs": [
    {
     "name": "stdout",
     "output_type": "stream",
     "text": [
      "----------------------------------------------------------------\n",
      "        Layer (type)               Output Shape         Param #\n",
      "================================================================\n",
      "            Linear-1              [-1, 32, 256]          17,664\n",
      "              ReLU-2              [-1, 32, 256]               0\n",
      "            Linear-3              [-1, 32, 256]          65,792\n",
      "              ReLU-4              [-1, 32, 256]               0\n",
      "            Linear-5              [-1, 32, 128]          32,896\n",
      "              ReLU-6              [-1, 32, 128]               0\n",
      "            Linear-7              [-1, 32, 128]          16,512\n",
      "              ReLU-8              [-1, 32, 128]               0\n",
      "            Linear-9                [-1, 32, 4]             516\n",
      "          Softmax-10                [-1, 32, 4]               0\n",
      "           Linear-11              [-1, 32, 128]             640\n",
      "             ReLU-12              [-1, 32, 128]               0\n",
      "           Linear-13              [-1, 32, 128]          16,512\n",
      "             ReLU-14              [-1, 32, 128]               0\n",
      "           Linear-15              [-1, 32, 256]          33,024\n",
      "             ReLU-16              [-1, 32, 256]               0\n",
      "           Linear-17              [-1, 32, 256]          65,792\n",
      "             ReLU-18              [-1, 32, 256]               0\n",
      "           Linear-19               [-1, 32, 68]          17,476\n",
      "================================================================\n",
      "Total params: 266,824\n",
      "Trainable params: 266,824\n",
      "Non-trainable params: 0\n",
      "----------------------------------------------------------------\n",
      "Input size (MB): 0.01\n",
      "Forward/backward pass size (MB): 0.77\n",
      "Params size (MB): 1.02\n",
      "Estimated Total Size (MB): 1.79\n",
      "----------------------------------------------------------------\n"
     ]
    },
    {
     "name": "stderr",
     "output_type": "stream",
     "text": [
      "c:\\Users\\Evint\\Documents\\Projects\\Functional-Group-Analysis\\venv\\lib\\site-packages\\torch\\nn\\modules\\module.py:1532: UserWarning: Implicit dimension choice for softmax has been deprecated. Change the call to include dim=X as an argument.\n",
      "  return self._call_impl(*args, **kwargs)\n"
     ]
    }
   ],
   "source": [
    "# Sample data\n",
    "batch_size = 32\n",
    "target_size = 4\n",
    "\n",
    "# Training loop\n",
    "num_epochs = 150\n",
    "\n",
    "X_train, X_test, y_train, y_test = train_test_split(X, X, \n",
    "                                   random_state=104,  \n",
    "                                   test_size=0.4,  \n",
    "                                   shuffle=True) \n",
    "\n",
    "tensor_X_train = torch.from_numpy(X_train).to(device)\n",
    "tensor_X_test = torch.from_numpy(X_test).to(device)\n",
    "tensor_y_train = torch.from_numpy(y_train).to(device)\n",
    "tensor_y_test = torch.from_numpy(y_test).to(device)\n",
    "\n",
    "# Create DataLoader\n",
    "dataset = TensorDataset(tensor_X_train, tensor_y_train)\n",
    "data_loader = DataLoader(dataset, batch_size=batch_size, shuffle=True)\n",
    "\n",
    "# Initialize the model\n",
    "model = TokenizerANN(input_size = tensor_X_test.shape[1],\n",
    "                     output_size=target_size).to(device)\n",
    "\n",
    "# Define loss function and optimizer\n",
    "criterion = nn.MSELoss()\n",
    "optimizer = optim.Adam(model.parameters(), lr=0.0001)\n",
    "\n",
    "# define history list\n",
    "class history:\n",
    "    def __init__(self) -> None:\n",
    "        self.loss = []\n",
    "        self.val_loss = []\n",
    "        self.metric_loss = []\n",
    "        self.val_metric_loss = []\n",
    "h = history()\n",
    "\n",
    "summary(model, (batch_size, tensor_X_test.shape[1]))"
   ]
  },
  {
   "cell_type": "code",
   "execution_count": 112,
   "metadata": {},
   "outputs": [
    {
     "name": "stderr",
     "output_type": "stream",
     "text": [
      "C:\\Users\\Evint\\AppData\\Local\\Temp\\ipykernel_38116\\3657820513.py:8: UserWarning: To copy construct from a tensor, it is recommended to use sourceTensor.clone().detach() or sourceTensor.clone().detach().requires_grad_(True), rather than torch.tensor(sourceTensor).\n",
      "  outputs = model(torch.tensor(inputs, dtype=torch.float32))\n",
      "C:\\Users\\Evint\\AppData\\Local\\Temp\\ipykernel_38116\\3657820513.py:15: UserWarning: To copy construct from a tensor, it is recommended to use sourceTensor.clone().detach() or sourceTensor.clone().detach().requires_grad_(True), rather than torch.tensor(sourceTensor).\n",
      "  val_outputs = model(torch.tensor(tensor_X_test, dtype=torch.float32))\n"
     ]
    },
    {
     "name": "stdout",
     "output_type": "stream",
     "text": [
      "Epoch [1/350] - Loss: 1.9349; val_loss: 0.4068 saved\n",
      "Epoch [2/350] - Loss: 0.2917; val_loss: 0.2156 saved\n",
      "Epoch [3/350] - Loss: 0.2043; val_loss: 0.2012 saved\n",
      "Epoch [4/350] - Loss: 0.1995; val_loss: 0.1955 saved\n",
      "Epoch [5/350] - Loss: 0.1960; val_loss: 0.1937 saved\n",
      "Epoch [6/350] - Loss: 0.1919; val_loss: 0.1890 saved\n",
      "Epoch [7/350] - Loss: 0.1871; val_loss: 0.1838 saved\n",
      "Epoch [8/350] - Loss: 0.1817; val_loss: 0.1795 saved\n",
      "Epoch [9/350] - Loss: 0.1762; val_loss: 0.1716 saved\n",
      "Epoch [10/350] - Loss: 0.1716; val_loss: 0.1704 saved\n",
      "Epoch [11/350] - Loss: 0.1675; val_loss: 0.1704 saved\n",
      "Epoch [12/350] - Loss: 0.1641; val_loss: 0.1593 saved\n",
      "Epoch [13/350] - Loss: 0.1609; val_loss: 0.1573 saved\n",
      "Epoch [14/350] - Loss: 0.1596; val_loss: 0.1564 saved\n",
      "Epoch [15/350] - Loss: 0.1564; val_loss: 0.1544 saved\n",
      "Epoch [16/350] - Loss: 0.1543; val_loss: 0.1686 saved\n",
      "Epoch [17/350] - Loss: 0.1507; val_loss: 0.1489 saved\n",
      "Epoch [18/350] - Loss: 0.1479; val_loss: 0.1454 saved\n",
      "Epoch [19/350] - Loss: 0.1460; val_loss: 0.1460 saved\n",
      "Epoch [20/350] - Loss: 0.1440; val_loss: 0.1462 saved\n",
      "Epoch [21/350] - Loss: 0.1427; val_loss: 0.1438 saved\n",
      "Epoch [22/350] - Loss: 0.1418; val_loss: 0.1407 saved\n",
      "Epoch [23/350] - Loss: 0.1410; val_loss: 0.1394 saved\n",
      "Epoch [24/350] - Loss: 0.1399; val_loss: 0.1386 saved\n",
      "Epoch [25/350] - Loss: 0.1393; val_loss: 0.1386 saved\n",
      "Epoch [26/350] - Loss: 0.1382; val_loss: 0.1410 saved\n",
      "Epoch [27/350] - Loss: 0.1374; val_loss: 0.1380 saved\n",
      "Epoch [28/350] - Loss: 0.1362; val_loss: 0.1356 saved\n",
      "Epoch [29/350] - Loss: 0.1355; val_loss: 0.1355 saved\n",
      "Epoch [30/350] - Loss: 0.1346; val_loss: 0.1335 saved\n",
      "Epoch [31/350] - Loss: 0.1340; val_loss: 0.1330 saved\n",
      "Epoch [32/350] - Loss: 0.1335; val_loss: 0.1330 saved\n",
      "Epoch [33/350] - Loss: 0.1330; val_loss: 0.1316 saved\n",
      "Epoch [34/350] - Loss: 0.1326; val_loss: 0.1339 saved\n",
      "Epoch [35/350] - Loss: 0.1320; val_loss: 0.1308 saved\n",
      "Epoch [36/350] - Loss: 0.1321; val_loss: 0.1326 \n",
      "Epoch [37/350] - Loss: 0.1323; val_loss: 0.1316 \n",
      "Epoch [38/350] - Loss: 0.1308; val_loss: 0.1324 saved\n",
      "Epoch [39/350] - Loss: 0.1310; val_loss: 0.1321 \n",
      "Epoch [40/350] - Loss: 0.1310; val_loss: 0.1292 \n",
      "Epoch [41/350] - Loss: 0.1326; val_loss: 0.1310 \n",
      "Epoch [42/350] - Loss: 0.1300; val_loss: 0.1289 saved\n",
      "Epoch [43/350] - Loss: 0.1297; val_loss: 0.1306 saved\n",
      "Epoch [44/350] - Loss: 0.1296; val_loss: 0.1298 saved\n",
      "Epoch [45/350] - Loss: 0.1291; val_loss: 0.1299 saved\n",
      "Epoch [46/350] - Loss: 0.1299; val_loss: 0.1284 \n",
      "Epoch [47/350] - Loss: 0.1288; val_loss: 0.1293 saved\n",
      "Epoch [48/350] - Loss: 0.1290; val_loss: 0.1295 \n",
      "Epoch [49/350] - Loss: 0.1302; val_loss: 0.1293 \n",
      "Epoch [50/350] - Loss: 0.1290; val_loss: 0.1304 \n",
      "Epoch [51/350] - Loss: 0.1281; val_loss: 0.1291 saved\n",
      "Epoch [52/350] - Loss: 0.1287; val_loss: 0.1271 \n",
      "Epoch [53/350] - Loss: 0.1279; val_loss: 0.1284 saved\n",
      "Epoch [54/350] - Loss: 0.1282; val_loss: 0.1276 \n",
      "Epoch [55/350] - Loss: 0.1282; val_loss: 0.1275 \n",
      "Epoch [56/350] - Loss: 0.1277; val_loss: 0.1294 saved\n",
      "Epoch [57/350] - Loss: 0.1275; val_loss: 0.1288 saved\n",
      "Epoch [58/350] - Loss: 0.1281; val_loss: 0.1280 \n",
      "Epoch [59/350] - Loss: 0.1271; val_loss: 0.1267 saved\n",
      "Epoch [60/350] - Loss: 0.1270; val_loss: 0.1275 saved\n",
      "Epoch [61/350] - Loss: 0.1267; val_loss: 0.1268 saved\n",
      "Epoch [62/350] - Loss: 0.1267; val_loss: 0.1263 saved\n",
      "Epoch [63/350] - Loss: 0.1265; val_loss: 0.1270 saved\n",
      "Epoch [64/350] - Loss: 0.1264; val_loss: 0.1272 saved\n",
      "Epoch [65/350] - Loss: 0.1261; val_loss: 0.1660 saved\n",
      "Epoch [66/350] - Loss: 0.1262; val_loss: 0.1290 \n",
      "Epoch [67/350] - Loss: 0.1259; val_loss: 0.1259 saved\n",
      "Epoch [68/350] - Loss: 0.1259; val_loss: 0.1251 \n",
      "Epoch [69/350] - Loss: 0.1255; val_loss: 0.1254 saved\n",
      "Epoch [70/350] - Loss: 0.1257; val_loss: 0.1282 \n",
      "Epoch [71/350] - Loss: 0.1257; val_loss: 0.1265 \n",
      "Epoch [72/350] - Loss: 0.1251; val_loss: 0.1282 saved\n",
      "Epoch [73/350] - Loss: 0.1251; val_loss: 0.1245 saved\n",
      "Epoch [74/350] - Loss: 0.1255; val_loss: 0.1241 \n",
      "Epoch [75/350] - Loss: 0.1246; val_loss: 0.1242 saved\n",
      "Epoch [76/350] - Loss: 0.1251; val_loss: 0.1245 \n",
      "Epoch [77/350] - Loss: 0.1246; val_loss: 0.1236 saved\n",
      "Epoch [78/350] - Loss: 0.1314; val_loss: 0.1550 \n",
      "Epoch [79/350] - Loss: 0.1429; val_loss: 0.1294 \n",
      "Epoch [80/350] - Loss: 0.1272; val_loss: 0.1241 \n",
      "Epoch [81/350] - Loss: 0.1366; val_loss: 0.1363 \n",
      "Epoch [82/350] - Loss: 0.1351; val_loss: 0.1593 \n",
      "Epoch [83/350] - Loss: 0.1375; val_loss: 0.1536 \n",
      "Epoch [84/350] - Loss: 0.1424; val_loss: 0.1399 \n",
      "Epoch [85/350] - Loss: 0.1387; val_loss: 0.1389 \n",
      "Epoch [86/350] - Loss: 0.1367; val_loss: 0.1365 \n",
      "Epoch [87/350] - Loss: 0.1348; val_loss: 0.1346 \n",
      "Epoch [88/350] - Loss: 0.1335; val_loss: 0.1327 \n",
      "Epoch [89/350] - Loss: 0.1318; val_loss: 0.1301 \n",
      "Epoch [90/350] - Loss: 0.1316; val_loss: 0.1317 \n",
      "Epoch [91/350] - Loss: 0.1300; val_loss: 0.1287 \n",
      "Epoch [92/350] - Loss: 0.1289; val_loss: 0.1281 \n",
      "Epoch [93/350] - Loss: 0.1284; val_loss: 0.1277 \n",
      "Epoch [94/350] - Loss: 0.1278; val_loss: 0.1276 \n",
      "Epoch [95/350] - Loss: 0.1288; val_loss: 0.1282 \n",
      "Epoch [96/350] - Loss: 0.1271; val_loss: 0.1289 \n",
      "Epoch [97/350] - Loss: 0.1266; val_loss: 0.1271 \n",
      "Epoch [98/350] - Loss: 0.1262; val_loss: 0.1260 \n",
      "Epoch [99/350] - Loss: 0.1259; val_loss: 0.1251 \n",
      "Epoch [100/350] - Loss: 0.1257; val_loss: 0.1268 \n",
      "Epoch [101/350] - Loss: 0.1249; val_loss: 0.1255 \n",
      "Epoch [102/350] - Loss: 0.1251; val_loss: 0.1253 \n",
      "Epoch [103/350] - Loss: 0.1245; val_loss: 0.1246 saved\n",
      "Epoch [104/350] - Loss: 0.1241; val_loss: 0.1253 saved\n",
      "Epoch [105/350] - Loss: 0.1240; val_loss: 0.1238 saved\n",
      "Epoch [106/350] - Loss: 0.1237; val_loss: 0.1235 saved\n",
      "Epoch [107/350] - Loss: 0.1234; val_loss: 0.1227 saved\n",
      "Epoch [108/350] - Loss: 0.1243; val_loss: 0.1245 \n",
      "Epoch [109/350] - Loss: 0.1230; val_loss: 0.1234 saved\n",
      "Epoch [110/350] - Loss: 0.1231; val_loss: 0.1223 \n",
      "Epoch [111/350] - Loss: 0.1234; val_loss: 0.1239 \n",
      "Epoch [112/350] - Loss: 0.1236; val_loss: 0.1221 \n",
      "Epoch [113/350] - Loss: 0.1231; val_loss: 0.1241 \n",
      "Epoch [114/350] - Loss: 0.1227; val_loss: 0.1240 saved\n",
      "Epoch [115/350] - Loss: 0.1220; val_loss: 0.1215 saved\n",
      "Epoch [116/350] - Loss: 0.1226; val_loss: 0.1224 \n",
      "Epoch [117/350] - Loss: 0.1225; val_loss: 0.1220 \n",
      "Epoch [118/350] - Loss: 0.1216; val_loss: 0.1210 saved\n",
      "Epoch [119/350] - Loss: 0.1214; val_loss: 0.1224 saved\n",
      "Epoch [120/350] - Loss: 0.1222; val_loss: 0.1224 \n",
      "Epoch [121/350] - Loss: 0.1220; val_loss: 0.1223 \n",
      "Epoch [122/350] - Loss: 0.1217; val_loss: 0.1213 \n",
      "Epoch [123/350] - Loss: 0.1212; val_loss: 0.1218 saved\n",
      "Epoch [124/350] - Loss: 0.1209; val_loss: 0.1214 saved\n",
      "Epoch [125/350] - Loss: 0.1262; val_loss: 0.1215 \n",
      "Epoch [126/350] - Loss: 0.1225; val_loss: 0.1212 \n",
      "Epoch [127/350] - Loss: 0.1209; val_loss: 0.1226 saved\n",
      "Epoch [128/350] - Loss: 0.1208; val_loss: 0.1200 saved\n",
      "Epoch [129/350] - Loss: 0.1204; val_loss: 0.1200 saved\n",
      "Epoch [130/350] - Loss: 0.1609; val_loss: 0.1522 \n",
      "Epoch [131/350] - Loss: 0.1432; val_loss: 0.1438 \n",
      "Epoch [132/350] - Loss: 0.1330; val_loss: 0.1275 \n",
      "Epoch [133/350] - Loss: 0.1286; val_loss: 0.1275 \n",
      "Epoch [134/350] - Loss: 0.1292; val_loss: 0.1259 \n",
      "Epoch [135/350] - Loss: 0.1269; val_loss: 0.1252 \n",
      "Epoch [136/350] - Loss: 0.1393; val_loss: 0.1309 \n",
      "Epoch [137/350] - Loss: 0.1281; val_loss: 0.1276 \n",
      "Epoch [138/350] - Loss: 0.1263; val_loss: 0.1255 \n",
      "Epoch [139/350] - Loss: 0.1249; val_loss: 0.1245 \n",
      "Epoch [140/350] - Loss: 0.1311; val_loss: 0.1268 \n",
      "Epoch [141/350] - Loss: 0.1312; val_loss: 0.1272 \n",
      "Epoch [142/350] - Loss: 0.1269; val_loss: 0.1251 \n",
      "Epoch [143/350] - Loss: 0.1251; val_loss: 0.1238 \n",
      "Epoch [144/350] - Loss: 0.1242; val_loss: 0.1240 \n",
      "Epoch [145/350] - Loss: 0.1232; val_loss: 0.1231 \n",
      "Epoch [146/350] - Loss: 0.1228; val_loss: 0.1212 \n",
      "Epoch [147/350] - Loss: 0.1230; val_loss: 0.1256 \n",
      "Epoch [148/350] - Loss: 0.1218; val_loss: 0.1214 \n",
      "Epoch [149/350] - Loss: 0.1217; val_loss: 0.1223 \n",
      "Epoch [150/350] - Loss: 0.1217; val_loss: 0.1215 \n"
     ]
    },
    {
     "ename": "KeyboardInterrupt",
     "evalue": "",
     "output_type": "error",
     "traceback": [
      "\u001b[1;31m---------------------------------------------------------------------------\u001b[0m",
      "\u001b[1;31mKeyboardInterrupt\u001b[0m                         Traceback (most recent call last)",
      "Cell \u001b[1;32mIn[112], line 8\u001b[0m\n\u001b[0;32m      6\u001b[0m \u001b[38;5;28;01mfor\u001b[39;00m inputs, targets \u001b[38;5;129;01min\u001b[39;00m data_loader:\n\u001b[0;32m      7\u001b[0m     optimizer\u001b[38;5;241m.\u001b[39mzero_grad()\n\u001b[1;32m----> 8\u001b[0m     outputs \u001b[38;5;241m=\u001b[39m \u001b[43mmodel\u001b[49m\u001b[43m(\u001b[49m\u001b[43mtorch\u001b[49m\u001b[38;5;241;43m.\u001b[39;49m\u001b[43mtensor\u001b[49m\u001b[43m(\u001b[49m\u001b[43minputs\u001b[49m\u001b[43m,\u001b[49m\u001b[43m \u001b[49m\u001b[43mdtype\u001b[49m\u001b[38;5;241;43m=\u001b[39;49m\u001b[43mtorch\u001b[49m\u001b[38;5;241;43m.\u001b[39;49m\u001b[43mfloat32\u001b[49m\u001b[43m)\u001b[49m\u001b[43m)\u001b[49m\n\u001b[0;32m      9\u001b[0m     loss \u001b[38;5;241m=\u001b[39m criterion(outputs, targets\u001b[38;5;241m.\u001b[39mto(torch\u001b[38;5;241m.\u001b[39mfloat32))\n\u001b[0;32m     10\u001b[0m     loss\u001b[38;5;241m.\u001b[39mbackward()\n",
      "File \u001b[1;32mc:\\Users\\Evint\\Documents\\Projects\\Functional-Group-Analysis\\venv\\lib\\site-packages\\torch\\nn\\modules\\module.py:1532\u001b[0m, in \u001b[0;36mModule._wrapped_call_impl\u001b[1;34m(self, *args, **kwargs)\u001b[0m\n\u001b[0;32m   1530\u001b[0m     \u001b[38;5;28;01mreturn\u001b[39;00m \u001b[38;5;28mself\u001b[39m\u001b[38;5;241m.\u001b[39m_compiled_call_impl(\u001b[38;5;241m*\u001b[39margs, \u001b[38;5;241m*\u001b[39m\u001b[38;5;241m*\u001b[39mkwargs)  \u001b[38;5;66;03m# type: ignore[misc]\u001b[39;00m\n\u001b[0;32m   1531\u001b[0m \u001b[38;5;28;01melse\u001b[39;00m:\n\u001b[1;32m-> 1532\u001b[0m     \u001b[38;5;28;01mreturn\u001b[39;00m \u001b[38;5;28;43mself\u001b[39;49m\u001b[38;5;241;43m.\u001b[39;49m\u001b[43m_call_impl\u001b[49m\u001b[43m(\u001b[49m\u001b[38;5;241;43m*\u001b[39;49m\u001b[43margs\u001b[49m\u001b[43m,\u001b[49m\u001b[43m \u001b[49m\u001b[38;5;241;43m*\u001b[39;49m\u001b[38;5;241;43m*\u001b[39;49m\u001b[43mkwargs\u001b[49m\u001b[43m)\u001b[49m\n",
      "File \u001b[1;32mc:\\Users\\Evint\\Documents\\Projects\\Functional-Group-Analysis\\venv\\lib\\site-packages\\torch\\nn\\modules\\module.py:1541\u001b[0m, in \u001b[0;36mModule._call_impl\u001b[1;34m(self, *args, **kwargs)\u001b[0m\n\u001b[0;32m   1536\u001b[0m \u001b[38;5;66;03m# If we don't have any hooks, we want to skip the rest of the logic in\u001b[39;00m\n\u001b[0;32m   1537\u001b[0m \u001b[38;5;66;03m# this function, and just call forward.\u001b[39;00m\n\u001b[0;32m   1538\u001b[0m \u001b[38;5;28;01mif\u001b[39;00m \u001b[38;5;129;01mnot\u001b[39;00m (\u001b[38;5;28mself\u001b[39m\u001b[38;5;241m.\u001b[39m_backward_hooks \u001b[38;5;129;01mor\u001b[39;00m \u001b[38;5;28mself\u001b[39m\u001b[38;5;241m.\u001b[39m_backward_pre_hooks \u001b[38;5;129;01mor\u001b[39;00m \u001b[38;5;28mself\u001b[39m\u001b[38;5;241m.\u001b[39m_forward_hooks \u001b[38;5;129;01mor\u001b[39;00m \u001b[38;5;28mself\u001b[39m\u001b[38;5;241m.\u001b[39m_forward_pre_hooks\n\u001b[0;32m   1539\u001b[0m         \u001b[38;5;129;01mor\u001b[39;00m _global_backward_pre_hooks \u001b[38;5;129;01mor\u001b[39;00m _global_backward_hooks\n\u001b[0;32m   1540\u001b[0m         \u001b[38;5;129;01mor\u001b[39;00m _global_forward_hooks \u001b[38;5;129;01mor\u001b[39;00m _global_forward_pre_hooks):\n\u001b[1;32m-> 1541\u001b[0m     \u001b[38;5;28;01mreturn\u001b[39;00m \u001b[43mforward_call\u001b[49m\u001b[43m(\u001b[49m\u001b[38;5;241;43m*\u001b[39;49m\u001b[43margs\u001b[49m\u001b[43m,\u001b[49m\u001b[43m \u001b[49m\u001b[38;5;241;43m*\u001b[39;49m\u001b[38;5;241;43m*\u001b[39;49m\u001b[43mkwargs\u001b[49m\u001b[43m)\u001b[49m\n\u001b[0;32m   1543\u001b[0m \u001b[38;5;28;01mtry\u001b[39;00m:\n\u001b[0;32m   1544\u001b[0m     result \u001b[38;5;241m=\u001b[39m \u001b[38;5;28;01mNone\u001b[39;00m\n",
      "Cell \u001b[1;32mIn[108], line 33\u001b[0m, in \u001b[0;36mTokenizerANN.forward\u001b[1;34m(self, x)\u001b[0m\n\u001b[0;32m     32\u001b[0m \u001b[38;5;28;01mdef\u001b[39;00m \u001b[38;5;21mforward\u001b[39m(\u001b[38;5;28mself\u001b[39m, x):\n\u001b[1;32m---> 33\u001b[0m     encoded \u001b[38;5;241m=\u001b[39m \u001b[38;5;28;43mself\u001b[39;49m\u001b[38;5;241;43m.\u001b[39;49m\u001b[43mencoder\u001b[49m\u001b[43m(\u001b[49m\u001b[43mx\u001b[49m\u001b[43m)\u001b[49m\n\u001b[0;32m     34\u001b[0m     decoded \u001b[38;5;241m=\u001b[39m \u001b[38;5;28mself\u001b[39m\u001b[38;5;241m.\u001b[39mdecoder(encoded)\n\u001b[0;32m     35\u001b[0m     \u001b[38;5;28;01mreturn\u001b[39;00m decoded\n",
      "File \u001b[1;32mc:\\Users\\Evint\\Documents\\Projects\\Functional-Group-Analysis\\venv\\lib\\site-packages\\torch\\nn\\modules\\module.py:1532\u001b[0m, in \u001b[0;36mModule._wrapped_call_impl\u001b[1;34m(self, *args, **kwargs)\u001b[0m\n\u001b[0;32m   1530\u001b[0m     \u001b[38;5;28;01mreturn\u001b[39;00m \u001b[38;5;28mself\u001b[39m\u001b[38;5;241m.\u001b[39m_compiled_call_impl(\u001b[38;5;241m*\u001b[39margs, \u001b[38;5;241m*\u001b[39m\u001b[38;5;241m*\u001b[39mkwargs)  \u001b[38;5;66;03m# type: ignore[misc]\u001b[39;00m\n\u001b[0;32m   1531\u001b[0m \u001b[38;5;28;01melse\u001b[39;00m:\n\u001b[1;32m-> 1532\u001b[0m     \u001b[38;5;28;01mreturn\u001b[39;00m \u001b[38;5;28;43mself\u001b[39;49m\u001b[38;5;241;43m.\u001b[39;49m\u001b[43m_call_impl\u001b[49m\u001b[43m(\u001b[49m\u001b[38;5;241;43m*\u001b[39;49m\u001b[43margs\u001b[49m\u001b[43m,\u001b[49m\u001b[43m \u001b[49m\u001b[38;5;241;43m*\u001b[39;49m\u001b[38;5;241;43m*\u001b[39;49m\u001b[43mkwargs\u001b[49m\u001b[43m)\u001b[49m\n",
      "File \u001b[1;32mc:\\Users\\Evint\\Documents\\Projects\\Functional-Group-Analysis\\venv\\lib\\site-packages\\torch\\nn\\modules\\module.py:1541\u001b[0m, in \u001b[0;36mModule._call_impl\u001b[1;34m(self, *args, **kwargs)\u001b[0m\n\u001b[0;32m   1536\u001b[0m \u001b[38;5;66;03m# If we don't have any hooks, we want to skip the rest of the logic in\u001b[39;00m\n\u001b[0;32m   1537\u001b[0m \u001b[38;5;66;03m# this function, and just call forward.\u001b[39;00m\n\u001b[0;32m   1538\u001b[0m \u001b[38;5;28;01mif\u001b[39;00m \u001b[38;5;129;01mnot\u001b[39;00m (\u001b[38;5;28mself\u001b[39m\u001b[38;5;241m.\u001b[39m_backward_hooks \u001b[38;5;129;01mor\u001b[39;00m \u001b[38;5;28mself\u001b[39m\u001b[38;5;241m.\u001b[39m_backward_pre_hooks \u001b[38;5;129;01mor\u001b[39;00m \u001b[38;5;28mself\u001b[39m\u001b[38;5;241m.\u001b[39m_forward_hooks \u001b[38;5;129;01mor\u001b[39;00m \u001b[38;5;28mself\u001b[39m\u001b[38;5;241m.\u001b[39m_forward_pre_hooks\n\u001b[0;32m   1539\u001b[0m         \u001b[38;5;129;01mor\u001b[39;00m _global_backward_pre_hooks \u001b[38;5;129;01mor\u001b[39;00m _global_backward_hooks\n\u001b[0;32m   1540\u001b[0m         \u001b[38;5;129;01mor\u001b[39;00m _global_forward_hooks \u001b[38;5;129;01mor\u001b[39;00m _global_forward_pre_hooks):\n\u001b[1;32m-> 1541\u001b[0m     \u001b[38;5;28;01mreturn\u001b[39;00m \u001b[43mforward_call\u001b[49m\u001b[43m(\u001b[49m\u001b[38;5;241;43m*\u001b[39;49m\u001b[43margs\u001b[49m\u001b[43m,\u001b[49m\u001b[43m \u001b[49m\u001b[38;5;241;43m*\u001b[39;49m\u001b[38;5;241;43m*\u001b[39;49m\u001b[43mkwargs\u001b[49m\u001b[43m)\u001b[49m\n\u001b[0;32m   1543\u001b[0m \u001b[38;5;28;01mtry\u001b[39;00m:\n\u001b[0;32m   1544\u001b[0m     result \u001b[38;5;241m=\u001b[39m \u001b[38;5;28;01mNone\u001b[39;00m\n",
      "File \u001b[1;32mc:\\Users\\Evint\\Documents\\Projects\\Functional-Group-Analysis\\venv\\lib\\site-packages\\torch\\nn\\modules\\container.py:217\u001b[0m, in \u001b[0;36mSequential.forward\u001b[1;34m(self, input)\u001b[0m\n\u001b[0;32m    215\u001b[0m \u001b[38;5;28;01mdef\u001b[39;00m \u001b[38;5;21mforward\u001b[39m(\u001b[38;5;28mself\u001b[39m, \u001b[38;5;28minput\u001b[39m):\n\u001b[0;32m    216\u001b[0m     \u001b[38;5;28;01mfor\u001b[39;00m module \u001b[38;5;129;01min\u001b[39;00m \u001b[38;5;28mself\u001b[39m:\n\u001b[1;32m--> 217\u001b[0m         \u001b[38;5;28minput\u001b[39m \u001b[38;5;241m=\u001b[39m \u001b[43mmodule\u001b[49m\u001b[43m(\u001b[49m\u001b[38;5;28;43minput\u001b[39;49m\u001b[43m)\u001b[49m\n\u001b[0;32m    218\u001b[0m     \u001b[38;5;28;01mreturn\u001b[39;00m \u001b[38;5;28minput\u001b[39m\n",
      "File \u001b[1;32mc:\\Users\\Evint\\Documents\\Projects\\Functional-Group-Analysis\\venv\\lib\\site-packages\\torch\\nn\\modules\\module.py:1532\u001b[0m, in \u001b[0;36mModule._wrapped_call_impl\u001b[1;34m(self, *args, **kwargs)\u001b[0m\n\u001b[0;32m   1530\u001b[0m     \u001b[38;5;28;01mreturn\u001b[39;00m \u001b[38;5;28mself\u001b[39m\u001b[38;5;241m.\u001b[39m_compiled_call_impl(\u001b[38;5;241m*\u001b[39margs, \u001b[38;5;241m*\u001b[39m\u001b[38;5;241m*\u001b[39mkwargs)  \u001b[38;5;66;03m# type: ignore[misc]\u001b[39;00m\n\u001b[0;32m   1531\u001b[0m \u001b[38;5;28;01melse\u001b[39;00m:\n\u001b[1;32m-> 1532\u001b[0m     \u001b[38;5;28;01mreturn\u001b[39;00m \u001b[38;5;28;43mself\u001b[39;49m\u001b[38;5;241;43m.\u001b[39;49m\u001b[43m_call_impl\u001b[49m\u001b[43m(\u001b[49m\u001b[38;5;241;43m*\u001b[39;49m\u001b[43margs\u001b[49m\u001b[43m,\u001b[49m\u001b[43m \u001b[49m\u001b[38;5;241;43m*\u001b[39;49m\u001b[38;5;241;43m*\u001b[39;49m\u001b[43mkwargs\u001b[49m\u001b[43m)\u001b[49m\n",
      "File \u001b[1;32mc:\\Users\\Evint\\Documents\\Projects\\Functional-Group-Analysis\\venv\\lib\\site-packages\\torch\\nn\\modules\\module.py:1541\u001b[0m, in \u001b[0;36mModule._call_impl\u001b[1;34m(self, *args, **kwargs)\u001b[0m\n\u001b[0;32m   1536\u001b[0m \u001b[38;5;66;03m# If we don't have any hooks, we want to skip the rest of the logic in\u001b[39;00m\n\u001b[0;32m   1537\u001b[0m \u001b[38;5;66;03m# this function, and just call forward.\u001b[39;00m\n\u001b[0;32m   1538\u001b[0m \u001b[38;5;28;01mif\u001b[39;00m \u001b[38;5;129;01mnot\u001b[39;00m (\u001b[38;5;28mself\u001b[39m\u001b[38;5;241m.\u001b[39m_backward_hooks \u001b[38;5;129;01mor\u001b[39;00m \u001b[38;5;28mself\u001b[39m\u001b[38;5;241m.\u001b[39m_backward_pre_hooks \u001b[38;5;129;01mor\u001b[39;00m \u001b[38;5;28mself\u001b[39m\u001b[38;5;241m.\u001b[39m_forward_hooks \u001b[38;5;129;01mor\u001b[39;00m \u001b[38;5;28mself\u001b[39m\u001b[38;5;241m.\u001b[39m_forward_pre_hooks\n\u001b[0;32m   1539\u001b[0m         \u001b[38;5;129;01mor\u001b[39;00m _global_backward_pre_hooks \u001b[38;5;129;01mor\u001b[39;00m _global_backward_hooks\n\u001b[0;32m   1540\u001b[0m         \u001b[38;5;129;01mor\u001b[39;00m _global_forward_hooks \u001b[38;5;129;01mor\u001b[39;00m _global_forward_pre_hooks):\n\u001b[1;32m-> 1541\u001b[0m     \u001b[38;5;28;01mreturn\u001b[39;00m \u001b[43mforward_call\u001b[49m\u001b[43m(\u001b[49m\u001b[38;5;241;43m*\u001b[39;49m\u001b[43margs\u001b[49m\u001b[43m,\u001b[49m\u001b[43m \u001b[49m\u001b[38;5;241;43m*\u001b[39;49m\u001b[38;5;241;43m*\u001b[39;49m\u001b[43mkwargs\u001b[49m\u001b[43m)\u001b[49m\n\u001b[0;32m   1543\u001b[0m \u001b[38;5;28;01mtry\u001b[39;00m:\n\u001b[0;32m   1544\u001b[0m     result \u001b[38;5;241m=\u001b[39m \u001b[38;5;28;01mNone\u001b[39;00m\n",
      "File \u001b[1;32mc:\\Users\\Evint\\Documents\\Projects\\Functional-Group-Analysis\\venv\\lib\\site-packages\\torch\\nn\\modules\\activation.py:103\u001b[0m, in \u001b[0;36mReLU.forward\u001b[1;34m(self, input)\u001b[0m\n\u001b[0;32m    102\u001b[0m \u001b[38;5;28;01mdef\u001b[39;00m \u001b[38;5;21mforward\u001b[39m(\u001b[38;5;28mself\u001b[39m, \u001b[38;5;28minput\u001b[39m: Tensor) \u001b[38;5;241m-\u001b[39m\u001b[38;5;241m>\u001b[39m Tensor:\n\u001b[1;32m--> 103\u001b[0m     \u001b[38;5;28;01mreturn\u001b[39;00m \u001b[43mF\u001b[49m\u001b[38;5;241;43m.\u001b[39;49m\u001b[43mrelu\u001b[49m\u001b[43m(\u001b[49m\u001b[38;5;28;43minput\u001b[39;49m\u001b[43m,\u001b[49m\u001b[43m \u001b[49m\u001b[43minplace\u001b[49m\u001b[38;5;241;43m=\u001b[39;49m\u001b[38;5;28;43mself\u001b[39;49m\u001b[38;5;241;43m.\u001b[39;49m\u001b[43minplace\u001b[49m\u001b[43m)\u001b[49m\n",
      "File \u001b[1;32mc:\\Users\\Evint\\Documents\\Projects\\Functional-Group-Analysis\\venv\\lib\\site-packages\\torch\\nn\\functional.py:1500\u001b[0m, in \u001b[0;36mrelu\u001b[1;34m(input, inplace)\u001b[0m\n\u001b[0;32m   1498\u001b[0m     result \u001b[38;5;241m=\u001b[39m torch\u001b[38;5;241m.\u001b[39mrelu_(\u001b[38;5;28minput\u001b[39m)\n\u001b[0;32m   1499\u001b[0m \u001b[38;5;28;01melse\u001b[39;00m:\n\u001b[1;32m-> 1500\u001b[0m     result \u001b[38;5;241m=\u001b[39m \u001b[43mtorch\u001b[49m\u001b[38;5;241;43m.\u001b[39;49m\u001b[43mrelu\u001b[49m\u001b[43m(\u001b[49m\u001b[38;5;28;43minput\u001b[39;49m\u001b[43m)\u001b[49m\n\u001b[0;32m   1501\u001b[0m \u001b[38;5;28;01mreturn\u001b[39;00m result\n",
      "\u001b[1;31mKeyboardInterrupt\u001b[0m: "
     ]
    }
   ],
   "source": [
    "min_loss = 1e5\n",
    "hist_loss = []\n",
    "hist_val_loss = []\n",
    "for epoch in range(num_epochs):\n",
    "    loss_acc = []\n",
    "    for inputs, targets in data_loader:\n",
    "        optimizer.zero_grad()\n",
    "        outputs = model(torch.tensor(inputs, dtype=torch.float32))\n",
    "        loss = criterion(outputs, targets.to(torch.float32))\n",
    "        loss.backward()\n",
    "        optimizer.step()\n",
    "        loss_acc.append(loss.item())\n",
    "    \n",
    "    epoch_loss = np.mean(loss_acc)\n",
    "    val_outputs = model(torch.tensor(tensor_X_test, dtype=torch.float32))\n",
    "    val_loss = criterion(val_outputs, tensor_y_test)\n",
    "    hist_loss.append(epoch_loss.item())\n",
    "    hist_val_loss.append(val_loss.item())\n",
    "    print(f\"Epoch [{epoch+1}/{num_epochs}] - Loss: {epoch_loss:.4f}; val_loss: {val_loss:.4f}\", end=\" \")\n",
    "    if min_loss > epoch_loss:\n",
    "        torch.save(model.state_dict(), \"tokenizer_ann_with_decoder.pth\")\n",
    "        min_loss = epoch_loss\n",
    "        print(\"saved\")\n",
    "    else:\n",
    "        print()"
   ]
  },
  {
   "cell_type": "code",
   "execution_count": 113,
   "metadata": {},
   "outputs": [
    {
     "data": {
      "text/plain": [
       "[<matplotlib.lines.Line2D at 0x273bfcbb640>]"
      ]
     },
     "execution_count": 113,
     "metadata": {},
     "output_type": "execute_result"
    },
    {
     "data": {
      "image/png": "[encoded data removed]",
      "text/plain": [
       "<Figure size 640x480 with 1 Axes>"
      ]
     },
     "metadata": {},
     "output_type": "display_data"
    }
   ],
   "source": [
    "plt.plot(hist_loss)\n",
    "plt.plot(hist_val_loss)"
   ]
  }
 ],
 "metadata": {
  "kernelspec": {
   "display_name": "venv",
   "language": "python",
   "name": "python3"
  },
  "language_info": {
   "codemirror_mode": {
    "name": "ipython",
    "version": 3
   },
   "file_extension": ".py",
   "mimetype": "text/x-python",
   "name": "python",
   "nbconvert_exporter": "python",
   "pygments_lexer": "ipython3",
   "version": "3.8.10"
  }
 },
 "nbformat": 4,
 "nbformat_minor": 2
}
