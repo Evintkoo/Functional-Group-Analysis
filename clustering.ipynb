{
 "cells": [
  {
   "cell_type": "code",
   "execution_count": 1,
   "metadata": {},
   "outputs": [],
   "source": [
    "import pandas as pd\n",
    "import numpy as np\n",
    "import math\n",
    "import seaborn as sns\n",
    "import matplotlib.pyplot as plt\n",
    "from SOM_clustering.som import SOM"
   ]
  },
  {
   "cell_type": "code",
   "execution_count": 2,
   "metadata": {},
   "outputs": [
    {
     "name": "stdout",
     "output_type": "stream",
     "text": [
      "(62087, 7)\n",
      "(38799, 7)\n"
     ]
    }
   ],
   "source": [
    "df = pd.read_csv(\"selected_data.csv\")\n",
    "print(df.shape)\n",
    "df.drop_duplicates(inplace=True)\n",
    "print(df.shape)"
   ]
  },
  {
   "cell_type": "code",
   "execution_count": 3,
   "metadata": {},
   "outputs": [
    {
     "data": {
      "text/plain": [
       "<Axes: >"
      ]
     },
     "execution_count": 3,
     "metadata": {},
     "output_type": "execute_result"
    },
    {
     "data": {
      "image/png": "[encoded data removed]",
      "text/plain": [
       "<Figure size 640x480 with 2 Axes>"
      ]
     },
     "metadata": {},
     "output_type": "display_data"
    }
   ],
   "source": [
    "sns.heatmap(df.corr().abs())"
   ]
  },
  {
   "cell_type": "code",
   "execution_count": 19,
   "metadata": {},
   "outputs": [
    {
     "data": {
      "text/plain": [
       "[[array([ 7.88153545, 12.48545524, 10.65007488,  0.38354445, 23.79639598,\n",
       "         20.90251566,  5.81032851])],\n",
       " [array([13.67534417,  3.17852354,  6.9091238 ,  9.11909217, 19.31084339,\n",
       "         15.11975013,  8.09353508])],\n",
       " [array([15.05748024, 12.52366812, 16.10157168, 13.00766363, 18.61320197,\n",
       "         24.21393871,  7.16498497])]]"
      ]
     },
     "execution_count": 19,
     "metadata": {},
     "output_type": "execute_result"
    }
   ],
   "source": [
    "X = df.values\n",
    "model = SOM(m = 1,\n",
    "            n = 3, \n",
    "            dim=X.shape[1],\n",
    "            max_iter=3000,\n",
    "            initiate_method=\"random\",\n",
    "            learning_rate=0.7,\n",
    "            neighbour_rad=3)\n",
    "model.fit(X, epoch=5)\n",
    "model.neurons"
   ]
  },
  {
   "cell_type": "code",
   "execution_count": 20,
   "metadata": {},
   "outputs": [
    {
     "data": {
      "text/plain": [
       "(3, 7)"
      ]
     },
     "execution_count": 20,
     "metadata": {},
     "output_type": "execute_result"
    }
   ],
   "source": [
    "cluster_centers = model.neurons\n",
    "cluster_centers = np.reshape(cluster_centers, (-1,X.shape[1]))\n",
    "cluster_centers.shape"
   ]
  },
  {
   "cell_type": "code",
   "execution_count": 22,
   "metadata": {},
   "outputs": [
    {
     "data": {
      "text/html": [
       "<div>\n",
       "<style scoped>\n",
       "    .dataframe tbody tr th:only-of-type {\n",
       "        vertical-align: middle;\n",
       "    }\n",
       "\n",
       "    .dataframe tbody tr th {\n",
       "        vertical-align: top;\n",
       "    }\n",
       "\n",
       "    .dataframe thead th {\n",
       "        text-align: right;\n",
       "    }\n",
       "</style>\n",
       "<table border=\"1\" class=\"dataframe\">\n",
       "  <thead>\n",
       "    <tr style=\"text-align: right;\">\n",
       "      <th></th>\n",
       "      <th>('O', 'C', 1)</th>\n",
       "      <th>('N', 'H', 1)</th>\n",
       "      <th>('N', 'C', 1)</th>\n",
       "      <th>('N', 'C', 1.5)</th>\n",
       "      <th>('C', 'H', 1)</th>\n",
       "      <th>('C', 'C', 1)</th>\n",
       "      <th>('C', 'C', 1.5)</th>\n",
       "    </tr>\n",
       "  </thead>\n",
       "  <tbody>\n",
       "    <tr>\n",
       "      <th>0</th>\n",
       "      <td>7.8815</td>\n",
       "      <td>12.4855</td>\n",
       "      <td>10.6501</td>\n",
       "      <td>0.3835</td>\n",
       "      <td>23.7964</td>\n",
       "      <td>20.9025</td>\n",
       "      <td>5.8103</td>\n",
       "    </tr>\n",
       "    <tr>\n",
       "      <th>1</th>\n",
       "      <td>13.6753</td>\n",
       "      <td>3.1785</td>\n",
       "      <td>6.9091</td>\n",
       "      <td>9.1191</td>\n",
       "      <td>19.3108</td>\n",
       "      <td>15.1198</td>\n",
       "      <td>8.0935</td>\n",
       "    </tr>\n",
       "    <tr>\n",
       "      <th>2</th>\n",
       "      <td>15.0575</td>\n",
       "      <td>12.5237</td>\n",
       "      <td>16.1016</td>\n",
       "      <td>13.0077</td>\n",
       "      <td>18.6132</td>\n",
       "      <td>24.2139</td>\n",
       "      <td>7.1650</td>\n",
       "    </tr>\n",
       "  </tbody>\n",
       "</table>\n",
       "</div>"
      ],
      "text/plain": [
       "   ('O', 'C', 1)  ('N', 'H', 1)  ('N', 'C', 1)  ('N', 'C', 1.5)  \\\n",
       "0         7.8815        12.4855        10.6501           0.3835   \n",
       "1        13.6753         3.1785         6.9091           9.1191   \n",
       "2        15.0575        12.5237        16.1016          13.0077   \n",
       "\n",
       "   ('C', 'H', 1)  ('C', 'C', 1)  ('C', 'C', 1.5)  \n",
       "0        23.7964        20.9025           5.8103  \n",
       "1        19.3108        15.1198           8.0935  \n",
       "2        18.6132        24.2139           7.1650  "
      ]
     },
     "execution_count": 22,
     "metadata": {},
     "output_type": "execute_result"
    }
   ],
   "source": [
    "cc = pd.DataFrame(cluster_centers, columns=df.columns)\n",
    "cc.dropna(axis=1, inplace=True)\n",
    "cc.round(4)"
   ]
  },
  {
   "cell_type": "code",
   "execution_count": 23,
   "metadata": {},
   "outputs": [],
   "source": [
    "cc.round(4).to_excel(\"clustercenters.xlsx\", index=False)\n",
    "cc.round(4).to_csv(\"clustercenters.csv\", index=False)"
   ]
  },
  {
   "cell_type": "code",
   "execution_count": null,
   "metadata": {},
   "outputs": [],
   "source": []
  }
 ],
 "metadata": {
  "kernelspec": {
   "display_name": "Python 3",
   "language": "python",
   "name": "python3"
  },
  "language_info": {
   "codemirror_mode": {
    "name": "ipython",
    "version": 3
   },
   "file_extension": ".py",
   "mimetype": "text/x-python",
   "name": "python",
   "nbconvert_exporter": "python",
   "pygments_lexer": "ipython3",
   "version": "3.10.11"
  },
  "orig_nbformat": 4
 },
 "nbformat": 4,
 "nbformat_minor": 2
}
